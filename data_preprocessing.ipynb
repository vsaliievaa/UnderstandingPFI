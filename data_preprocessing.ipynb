{
  "nbformat": 4,
  "nbformat_minor": 0,
  "metadata": {
    "colab": {
      "name": "data_preprocessing.ipynb",
      "provenance": [],
      "collapsed_sections": [],
      "authorship_tag": "ABX9TyPQt73pgORnOLAeHLreQBW/",
      "include_colab_link": true
    },
    "kernelspec": {
      "name": "python3",
      "display_name": "Python 3"
    },
    "language_info": {
      "name": "python"
    }
  },
  "cells": [
    {
      "cell_type": "markdown",
      "metadata": {
        "id": "view-in-github",
        "colab_type": "text"
      },
      "source": [
        "<a href=\"https://colab.research.google.com/github/vsaliievaa/UnderstandingPFI/blob/main/data_preprocessing.ipynb\" target=\"_parent\"><img src=\"https://colab.research.google.com/assets/colab-badge.svg\" alt=\"Open In Colab\"/></a>"
      ]
    },
    {
      "cell_type": "markdown",
      "source": [
        "### Aligning Polity Score and press freedom index data."
      ],
      "metadata": {
        "id": "A8CFRWjnx2z8"
      }
    },
    {
      "cell_type": "code",
      "source": [
        "!pip install openpyxl"
      ],
      "metadata": {
        "colab": {
          "base_uri": "https://localhost:8080/"
        },
        "id": "LQxE5avPvjn2",
        "outputId": "ef4c25ae-9125-4e09-a938-e239f42ac897"
      },
      "execution_count": null,
      "outputs": [
        {
          "output_type": "stream",
          "name": "stdout",
          "text": [
            "Looking in indexes: https://pypi.org/simple, https://us-python.pkg.dev/colab-wheels/public/simple/\n",
            "Requirement already satisfied: openpyxl in /usr/local/lib/python3.7/dist-packages (3.0.10)\n",
            "Requirement already satisfied: et-xmlfile in /usr/local/lib/python3.7/dist-packages (from openpyxl) (1.1.0)\n"
          ]
        }
      ]
    },
    {
      "cell_type": "code",
      "execution_count": null,
      "metadata": {
        "id": "S2KgB2npxoce"
      },
      "outputs": [],
      "source": [
        "import csv\n",
        "import pandas as pd\n",
        "import numpy as np\n",
        "from openpyxl import Workbook"
      ]
    },
    {
      "cell_type": "code",
      "source": [
        "polity_scores = []\n",
        "countries = []\n",
        "\n",
        "with open(\"PressFreedomIndex.csv\") as file:\n",
        "  reader = csv.reader(file, delimiter=\",\")\n",
        "  years = next(reader)\n",
        "  for line in  reader:\n",
        "    countries.append(line[0])\n",
        "\n",
        "polity_countries = []\n",
        "with open(\"data.csv\") as file:\n",
        "  reader = csv.reader(file, delimiter=\",\")\n",
        "  years = next(reader)\n",
        "  for line in  reader:\n",
        "    if \"Polity Score\" in line[3] and line[1] in countries:\n",
        "      polity_entry = [line[1]] + line[-20:-4]\n",
        "      polity_scores.append(polity_entry)\n",
        "\n",
        "years = [''] + [i for i in range(2001, 2017)]\n",
        "# print(len(countries), len(polity_scores))\n",
        "\n",
        "with open(\"PolityScore.csv\", \"w\") as file:\n",
        "  writer = csv.writer(file, delimiter=\",\")\n",
        "  writer.writerow(years)\n",
        "  for entry in polity_scores:\n",
        "    writer.writerow(entry)\n"
      ],
      "metadata": {
        "colab": {
          "base_uri": "https://localhost:8080/",
          "height": 235
        },
        "id": "Xo8LeaTLQR3g",
        "outputId": "20fab03d-54b1-4456-fbd7-5a6dfb7e9f4d"
      },
      "execution_count": null,
      "outputs": [
        {
          "output_type": "error",
          "ename": "FileNotFoundError",
          "evalue": "ignored",
          "traceback": [
            "\u001b[0;31m---------------------------------------------------------------------------\u001b[0m",
            "\u001b[0;31mFileNotFoundError\u001b[0m                         Traceback (most recent call last)",
            "\u001b[0;32m<ipython-input-66-4253e9eaea79>\u001b[0m in \u001b[0;36m<module>\u001b[0;34m()\u001b[0m\n\u001b[1;32m      9\u001b[0m \u001b[0;34m\u001b[0m\u001b[0m\n\u001b[1;32m     10\u001b[0m \u001b[0mpolity_countries\u001b[0m \u001b[0;34m=\u001b[0m \u001b[0;34m[\u001b[0m\u001b[0;34m]\u001b[0m\u001b[0;34m\u001b[0m\u001b[0;34m\u001b[0m\u001b[0m\n\u001b[0;32m---> 11\u001b[0;31m \u001b[0;32mwith\u001b[0m \u001b[0mopen\u001b[0m\u001b[0;34m(\u001b[0m\u001b[0;34m\"data.csv\"\u001b[0m\u001b[0;34m)\u001b[0m \u001b[0;32mas\u001b[0m \u001b[0mfile\u001b[0m\u001b[0;34m:\u001b[0m\u001b[0;34m\u001b[0m\u001b[0;34m\u001b[0m\u001b[0m\n\u001b[0m\u001b[1;32m     12\u001b[0m   \u001b[0mreader\u001b[0m \u001b[0;34m=\u001b[0m \u001b[0mcsv\u001b[0m\u001b[0;34m.\u001b[0m\u001b[0mreader\u001b[0m\u001b[0;34m(\u001b[0m\u001b[0mfile\u001b[0m\u001b[0;34m,\u001b[0m \u001b[0mdelimiter\u001b[0m\u001b[0;34m=\u001b[0m\u001b[0;34m\",\"\u001b[0m\u001b[0;34m)\u001b[0m\u001b[0;34m\u001b[0m\u001b[0;34m\u001b[0m\u001b[0m\n\u001b[1;32m     13\u001b[0m   \u001b[0myears\u001b[0m \u001b[0;34m=\u001b[0m \u001b[0mnext\u001b[0m\u001b[0;34m(\u001b[0m\u001b[0mreader\u001b[0m\u001b[0;34m)\u001b[0m\u001b[0;34m\u001b[0m\u001b[0;34m\u001b[0m\u001b[0m\n",
            "\u001b[0;31mFileNotFoundError\u001b[0m: [Errno 2] No such file or directory: 'data.csv'"
          ]
        }
      ]
    },
    {
      "cell_type": "markdown",
      "source": [
        "### Aligning corruption, independent judiciary and press freedom index data.\n",
        "\n"
      ],
      "metadata": {
        "id": "Gg12f9wTsDdu"
      }
    },
    {
      "cell_type": "code",
      "source": [
        "pfi = []\n",
        "with open(\"PressFreedomIndex.csv\") as file:\n",
        "  reader = csv.reader(file, delimiter=\",\")\n",
        "  years = next(reader)\n",
        "  for line in reader:\n",
        "    pfi.append(line)"
      ],
      "metadata": {
        "id": "0sW-D2WCzk53"
      },
      "execution_count": null,
      "outputs": []
    },
    {
      "cell_type": "code",
      "source": [
        "judiciary, corruption = [], []\n",
        "judiciary_countries, corruption_countries = [], []\n",
        "\n",
        "with open(\"gsod.csv\") as file:\n",
        "  reader = csv.reader(file, delimiter=\",\")\n",
        "  years = next(reader)\n",
        "  for line in reader:\n",
        "    if line[3] == \"Corruption \" and line[1] in countries:\n",
        "      corruption.append([line[1]] + line[-19:-3])\n",
        "      corruption_countries.append(line[1])\n",
        "    elif line[3] == \"Judicial independence \" and line[1] in countries:\n",
        "      judiciary.append([line[1]] + line[-19:-3])\n",
        "      judiciary_countries.append(line[1])\n",
        "\n",
        "corruption.sort()\n",
        "judiciary.sort()\n",
        "\n",
        "print(corruption_countries)\n",
        "print(judiciary_countries)\n",
        "\n",
        "# with open(\"judiciary.csv\", \"w\") as file:\n",
        "#   writer = csv.writer(file, delimiter=\",\")\n",
        "#   writer.writerows(years)\n",
        "#   for entry in judiciary:\n",
        "#     if entry[0] in countries:\n",
        "#       writer.writerow(entry)\n",
        "\n",
        "# with open(\"corruption.csv\", \"w\") as file:\n",
        "#   writer = csv.writer(file, delimiter=\",\")\n",
        "#   writer.writerows(years)\n",
        "#   for entry in corruption:\n",
        "#     if entry[0] in countries:\n",
        "#       writer.writerow(entry)"
      ],
      "metadata": {
        "id": "KOMzStUDsHG5",
        "colab": {
          "base_uri": "https://localhost:8080/"
        },
        "outputId": "d2f7d1fd-cb9b-41de-a902-6fb214e1046e"
      },
      "execution_count": null,
      "outputs": [
        {
          "output_type": "stream",
          "name": "stdout",
          "text": [
            "['Angola', 'Albania', 'United Arab Emirates', 'Argentina', 'Armenia', 'Austria', 'Azerbaijan', 'Belgium', 'Burkina Faso', 'Bangladesh', 'Bulgaria', 'Bahrain', 'Belarus', 'Bolivia', 'Brazil', 'Botswana', 'Canada', 'Switzerland', 'Chile', 'China', \"Cote d'Ivoire\", 'Cameroon', 'Colombia', 'Costa Rica', 'Cyprus', 'Czech Republic', 'Germany', 'Denmark', 'Dominican Republic', 'Algeria', 'Ecuador', 'Egypt, Arab Rep.', 'Spain', 'Estonia', 'Ethiopia', 'Finland', 'France', 'Gabon', 'United Kingdom', 'Ghana', 'Guinea', 'Guinea-Bissau', 'Greece', 'Guatemala', 'Honduras', 'Croatia', 'Haiti', 'Hungary', 'Indonesia', 'India', 'Ireland', 'Iran, Islamic Rep.', 'Iraq', 'Iceland', 'Israel', 'Italy', 'Jamaica', 'Jordan', 'Japan', 'Kazakhstan', 'Kenya', 'Kuwait', 'Lebanon', 'Liberia', 'Libya', 'Sri Lanka', 'Lithuania', 'Luxembourg', 'Latvia', 'Morocco', 'Moldova', 'Madagascar', 'Mexico', 'Mali', 'Myanmar', 'Mongolia', 'Mozambique', 'Malawi', 'Malaysia', 'Namibia', 'Niger', 'Nigeria', 'Nicaragua', 'Netherlands', 'Norway', 'New Zealand', 'Oman', 'Pakistan', 'Panama', 'Peru', 'Philippines', 'Papua New Guinea', 'Poland', 'Portugal', 'Paraguay', 'Qatar', 'Romania', 'Russian Federation', 'Saudi Arabia', 'Sudan', 'Senegal', 'Singapore', 'Sierra Leone', 'El Salvador', 'Serbia', 'Slovak Republic', 'Slovenia', 'Sweden', 'Togo', 'Thailand', 'Trinidad and Tobago', 'Tunisia', 'Turkey', 'Tanzania', 'Uganda', 'Ukraine', 'Uruguay', 'United States', 'Venezuela, RB', 'Vietnam', 'Yemen, Rep.', 'South Africa', 'Zambia', 'Zimbabwe']\n",
            "['Afghanistan', 'Angola', 'Albania', 'United Arab Emirates', 'Argentina', 'Armenia', 'Austria', 'Azerbaijan', 'Burundi', 'Belgium', 'Benin', 'Burkina Faso', 'Bangladesh', 'Bulgaria', 'Bahrain', 'Bosnia and Herzegovina', 'Belarus', 'Bolivia', 'Brazil', 'Barbados', 'Botswana', 'Central African Republic', 'Canada', 'Switzerland', 'Chile', 'China', \"Cote d'Ivoire\", 'Cameroon', 'Colombia', 'Cabo Verde', 'Costa Rica', 'Cyprus', 'Czech Republic', 'Germany', 'Denmark', 'Dominican Republic', 'Algeria', 'Ecuador', 'Egypt, Arab Rep.', 'Eritrea', 'Spain', 'Estonia', 'Ethiopia', 'Finland', 'France', 'Gabon', 'United Kingdom', 'Georgia', 'Ghana', 'Guinea', 'Guinea-Bissau', 'Equatorial Guinea', 'Greece', 'Guatemala', 'Honduras', 'Croatia', 'Haiti', 'Hungary', 'Indonesia', 'India', 'Ireland', 'Iran, Islamic Rep.', 'Iraq', 'Iceland', 'Israel', 'Italy', 'Jamaica', 'Jordan', 'Japan', 'Kazakhstan', 'Kenya', 'Kyrgyz Republic', 'Cambodia', 'Kuwait', 'Lebanon', 'Liberia', 'Libya', 'Sri Lanka', 'Lesotho', 'Lithuania', 'Luxembourg', 'Latvia', 'Morocco', 'Moldova', 'Madagascar', 'Mexico', 'Mali', 'Myanmar', 'Mongolia', 'Mozambique', 'Mauritania', 'Mauritius', 'Malawi', 'Malaysia', 'Namibia', 'Niger', 'Nigeria', 'Nicaragua', 'Netherlands', 'Norway', 'Nepal', 'New Zealand', 'Oman', 'Pakistan', 'Panama', 'Peru', 'Philippines', 'Papua New Guinea', 'Poland', 'Portugal', 'Paraguay', 'Qatar', 'Romania', 'Russian Federation', 'Rwanda', 'Saudi Arabia', 'Sudan', 'Senegal', 'Singapore', 'Sierra Leone', 'El Salvador', 'Serbia', 'Slovak Republic', 'Slovenia', 'Sweden', 'Chad', 'Togo', 'Thailand', 'Tajikistan', 'Turkmenistan', 'Timor-Leste', 'Trinidad and Tobago', 'Tunisia', 'Turkey', 'Tanzania', 'Uganda', 'Ukraine', 'Uruguay', 'United States', 'Uzbekistan', 'Venezuela, RB', 'Vietnam', 'Yemen, Rep.', 'South Africa', 'Zambia', 'Zimbabwe']\n"
          ]
        }
      ]
    },
    {
      "cell_type": "code",
      "source": [
        "wbc = Workbook()\n",
        "wsc1 = wbc.active\n",
        "wsc1.title = \"Corruption\"\n",
        "\n",
        "wsc1.append(range(2000, 2017))\n",
        "\n",
        "for row in range(len(corruption)):\n",
        "  wsc1.append(corruption[row])\n",
        "\n",
        "wsc2 = wbc.create_sheet(\"PressFreedomIndex\")\n",
        "wsc2.append(range(2000, 2017))\n",
        "\n",
        "wbj = Workbook()\n",
        "wsj1 = wbj.active\n",
        "wsj1.title = \"Judicial independence\"\n",
        "\n",
        "wsj1.append(range(2000, 2017))\n",
        "\n",
        "for row in range(len(judiciary)):\n",
        "  wsj1.append(judiciary[row])\n",
        "\n",
        "wsj2 = wbj.create_sheet(\"Press Freedom Index\")\n",
        "wsj2.append(range(2000, 2017))\n",
        "\n",
        "row_idx = 2\n",
        "\n",
        "for entry in pfi:\n",
        "  if entry[0] in corruption_countries:\n",
        "    wsc2.append(entry)\n",
        "  \n",
        "  if entry[0] in judiciary_countries:\n",
        "    wsj2.append(entry)\n",
        "\n",
        "wbj.save(\"JudicialIndependece.xlsx\")\n",
        "wbc.save(\"Corruption.xlsx\")"
      ],
      "metadata": {
        "id": "Wld_ka-Eu1aD"
      },
      "execution_count": null,
      "outputs": []
    }
  ]
}